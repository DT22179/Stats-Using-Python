{
 "cells": [
  {
   "cell_type": "markdown",
   "id": "2a9a8908",
   "metadata": {},
   "source": [
    "### 5 Number Summary\n",
    "1. Minimum Value\n",
    "2. 25% i.e Q1\n",
    "3. Median or 50%\n",
    "4. 75% i.e Q3\n",
    "5. Maximum Value"
   ]
  },
  {
   "cell_type": "markdown",
   "id": "f945d37c",
   "metadata": {},
   "source": [
    "### Formula for IQR = Q3 - Q1 ; Q1 = (25/100) * (n + 1); Q3 = (75/100) * (n + 1)\n",
    "NOTE : We can find value for any percentile i.e 10% 25% 30% using above formula."
   ]
  },
  {
   "cell_type": "markdown",
   "id": "fe2ca258",
   "metadata": {},
   "source": [
    "### Implementation"
   ]
  },
  {
   "cell_type": "code",
   "execution_count": 22,
   "id": "df5b0898",
   "metadata": {},
   "outputs": [],
   "source": [
    "lst = [-450,-250,-178,-25,-10,-5,10,20,23,34,64,77,78,92,99,101,110,190,500,600]"
   ]
  },
  {
   "cell_type": "code",
   "execution_count": 23,
   "id": "b256f01e",
   "metadata": {},
   "outputs": [
    {
     "data": {
      "text/plain": [
       "[-450,\n",
       " -250,\n",
       " -178,\n",
       " -25,\n",
       " -10,\n",
       " -5,\n",
       " 10,\n",
       " 20,\n",
       " 23,\n",
       " 34,\n",
       " 64,\n",
       " 77,\n",
       " 78,\n",
       " 92,\n",
       " 99,\n",
       " 101,\n",
       " 110,\n",
       " 190,\n",
       " 500,\n",
       " 600]"
      ]
     },
     "execution_count": 23,
     "metadata": {},
     "output_type": "execute_result"
    }
   ],
   "source": [
    "lst"
   ]
  },
  {
   "cell_type": "code",
   "execution_count": 24,
   "id": "20b028da",
   "metadata": {},
   "outputs": [],
   "source": [
    "n = len(lst)\n",
    "q1 = round((25/100) * (n + 1))\n",
    "q3 = round((75/100) * (n + 1))"
   ]
  },
  {
   "cell_type": "code",
   "execution_count": 25,
   "id": "f9fb31ec",
   "metadata": {},
   "outputs": [],
   "source": [
    "Q1 = lst[q1 - 1] \n",
    "Q3 = lst[q3 - 1] "
   ]
  },
  {
   "cell_type": "code",
   "execution_count": 26,
   "id": "bd0a6c50",
   "metadata": {},
   "outputs": [
    {
     "data": {
      "text/plain": [
       "-10"
      ]
     },
     "execution_count": 26,
     "metadata": {},
     "output_type": "execute_result"
    }
   ],
   "source": [
    "Q1"
   ]
  },
  {
   "cell_type": "code",
   "execution_count": 27,
   "id": "3c833c3c",
   "metadata": {},
   "outputs": [
    {
     "data": {
      "text/plain": [
       "101"
      ]
     },
     "execution_count": 27,
     "metadata": {},
     "output_type": "execute_result"
    }
   ],
   "source": [
    "Q3"
   ]
  },
  {
   "cell_type": "code",
   "execution_count": 28,
   "id": "ca7e8361",
   "metadata": {},
   "outputs": [],
   "source": [
    "iqr = Q3 - Q1"
   ]
  },
  {
   "cell_type": "code",
   "execution_count": 29,
   "id": "67385f29",
   "metadata": {},
   "outputs": [
    {
     "data": {
      "text/plain": [
       "111"
      ]
     },
     "execution_count": 29,
     "metadata": {},
     "output_type": "execute_result"
    }
   ],
   "source": [
    "iqr"
   ]
  },
  {
   "cell_type": "markdown",
   "id": "172263a3",
   "metadata": {},
   "source": [
    "### Now for removing the outliers from a list we will only consider a value between lowerbracket.....upperbracket - \n",
    "1. lower_bracket = q1 - 1.5(iqr)\n",
    "2. higher_bracket = q3 + 1.5(iqr)"
   ]
  },
  {
   "cell_type": "code",
   "execution_count": 30,
   "id": "13abfb31",
   "metadata": {},
   "outputs": [],
   "source": [
    "lb = Q1 - (1.5 * iqr)\n",
    "hb = Q3 + (1.5 * iqr)"
   ]
  },
  {
   "cell_type": "code",
   "execution_count": 31,
   "id": "722120de",
   "metadata": {},
   "outputs": [
    {
     "data": {
      "text/plain": [
       "-176.5"
      ]
     },
     "execution_count": 31,
     "metadata": {},
     "output_type": "execute_result"
    }
   ],
   "source": [
    "lb"
   ]
  },
  {
   "cell_type": "code",
   "execution_count": 32,
   "id": "54ce3a45",
   "metadata": {},
   "outputs": [
    {
     "data": {
      "text/plain": [
       "267.5"
      ]
     },
     "execution_count": 32,
     "metadata": {},
     "output_type": "execute_result"
    }
   ],
   "source": [
    "hb"
   ]
  },
  {
   "cell_type": "code",
   "execution_count": 39,
   "id": "33db5580",
   "metadata": {},
   "outputs": [],
   "source": [
    "modified_lst = [i for i in lst if i > lb and i < hb]"
   ]
  },
  {
   "cell_type": "code",
   "execution_count": 40,
   "id": "3b1e2a26",
   "metadata": {},
   "outputs": [
    {
     "data": {
      "text/plain": [
       "[-25, -10, -5, 10, 20, 23, 34, 64, 77, 78, 92, 99, 101, 110, 190]"
      ]
     },
     "execution_count": 40,
     "metadata": {},
     "output_type": "execute_result"
    }
   ],
   "source": [
    "modified_lst"
   ]
  },
  {
   "cell_type": "code",
   "execution_count": null,
   "id": "87bdd70e",
   "metadata": {},
   "outputs": [],
   "source": []
  }
 ],
 "metadata": {
  "kernelspec": {
   "display_name": "Python 3",
   "language": "python",
   "name": "python3"
  },
  "language_info": {
   "codemirror_mode": {
    "name": "ipython",
    "version": 3
   },
   "file_extension": ".py",
   "mimetype": "text/x-python",
   "name": "python",
   "nbconvert_exporter": "python",
   "pygments_lexer": "ipython3",
   "version": "3.9.5"
  }
 },
 "nbformat": 4,
 "nbformat_minor": 5
}
